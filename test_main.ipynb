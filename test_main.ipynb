{
 "cells": [
  {
   "cell_type": "code",
   "execution_count": 1,
   "metadata": {},
   "outputs": [
    {
     "name": "stderr",
     "output_type": "stream",
     "text": [
      "/home/dead/projects/short_generator/.venv/lib/python3.10/site-packages/tqdm/auto.py:21: TqdmWarning: IProgress not found. Please update jupyter and ipywidgets. See https://ipywidgets.readthedocs.io/en/stable/user_install.html\n",
      "  from .autonotebook import tqdm as notebook_tqdm\n"
     ]
    }
   ],
   "source": [
    "from sentence_transformers import SentenceTransformer"
   ]
  },
  {
   "cell_type": "code",
   "execution_count": 2,
   "metadata": {},
   "outputs": [
    {
     "name": "stderr",
     "output_type": "stream",
     "text": [
      "/home/dead/projects/short_generator/.venv/lib/python3.10/site-packages/torch/_utils.py:831: UserWarning: TypedStorage is deprecated. It will be removed in the future and UntypedStorage will be the only storage class. This should only matter to you if you are using storages directly.  To access UntypedStorage directly, use tensor.untyped_storage() instead of tensor.storage()\n",
      "  return self.fget.__get__(instance, owner)()\n"
     ]
    }
   ],
   "source": [
    "# Specify your cache directory path\n",
    "cache_dir = \"/mnt/f/HuggingFace/huggingface_cache\"\n",
    "\n",
    "# Initialize the Sentence Transformer model with a cache directory\n",
    "model = SentenceTransformer('all-MiniLM-L6-v2', cache_folder=cache_dir)"
   ]
  },
  {
   "cell_type": "code",
   "execution_count": 3,
   "metadata": {},
   "outputs": [
    {
     "data": {
      "text/plain": [
       "384"
      ]
     },
     "execution_count": 3,
     "metadata": {},
     "output_type": "execute_result"
    }
   ],
   "source": [
    "len(model.encode(\"This is a test sentence.\"))"
   ]
  },
  {
   "cell_type": "code",
   "execution_count": 4,
   "metadata": {},
   "outputs": [
    {
     "name": "stderr",
     "output_type": "stream",
     "text": [
      "2024-02-24 20:44:06,773 - INFO - Connected to Milvus successfully.\n"
     ]
    }
   ],
   "source": [
    "from src.generate_stories.similarity_search import search_similar_stories"
   ]
  },
  {
   "cell_type": "code",
   "execution_count": null,
   "metadata": {},
   "outputs": [],
   "source": []
  },
  {
   "cell_type": "code",
   "execution_count": 5,
   "metadata": {},
   "outputs": [],
   "source": [
    "query_text = \"Tell me a story about ghosts\"\n",
    "top_k = 5\n",
    "collection_name = \"reddit_stories\""
   ]
  },
  {
   "cell_type": "code",
   "execution_count": 6,
   "metadata": {},
   "outputs": [
    {
     "name": "stderr",
     "output_type": "stream",
     "text": [
      "2024-02-24 20:44:06,807 - INFO - Generating query embedding.\n",
      "Batches: 100%|██████████| 1/1 [00:00<00:00, 160.55it/s]\n",
      "2024-02-24 20:44:06,820 - INFO - Performing the search.\n",
      "2024-02-24 20:44:06,825 - INFO - Processing search results.\n",
      "2024-02-24 20:44:06,826 - INFO - Post ID: None, Title: None, Subreddit: None, URL: None, Distance: 0.656537652015686\n",
      "2024-02-24 20:44:06,827 - INFO - Post ID: None, Title: None, Subreddit: None, URL: None, Distance: 0.828530490398407\n",
      "2024-02-24 20:44:06,828 - INFO - Post ID: None, Title: None, Subreddit: None, URL: None, Distance: 0.8382185697555542\n",
      "2024-02-24 20:44:06,829 - INFO - Post ID: None, Title: None, Subreddit: None, URL: None, Distance: 0.9064284563064575\n",
      "2024-02-24 20:44:06,829 - INFO - Post ID: None, Title: None, Subreddit: None, URL: None, Distance: 0.9160110354423523\n"
     ]
    }
   ],
   "source": [
    "search = search_similar_stories(query_text=query_text, collection_name=collection_name, top_k=top_k, model=model, output_fields=[\"selftext\"])"
   ]
  },
  {
   "cell_type": "code",
   "execution_count": 7,
   "metadata": {},
   "outputs": [
    {
     "data": {
      "text/plain": [
       "'I used to be a tour guide in a popular tourist town in Tennessee. My job at the time was to take people on a circuitous two mile walk around the town, telling them the ghost stories of the people who had lived there. During the Summer, tours started a little before sundown and would end well after dark. All-in-all, it would take us roughly 1-2 hours to get through a tour, depending on the walking speed of my group.\\n\\nJust to preface this, the vast majority of stories we told were not true. They were either largely exaggerated, entirely fabricated, or simply gruesome stories of local murders with a paranormal twist added at the end with \"the ghost of the killer\" still lurking about. \\n\\nI didn\\'t write the script, don\\'t blame me. In fact, I visited a local museum and sourced authentic ghost stories from a curator in order to add a few of my own to the tour which were actually authentic. \\n\\nThat said, there were a handful of times during my stint as a tour guide in which I had experiences that were... Not so easily explained. In this post, I\\'m going to detail three of the most interesting ones.\\n\\n**Story One:**\\n\\nOne of the tools we got for our tours were EMF detectors, which I\\'m sure you\\'re mostly all familiar with. They\\'re intended to scan for electro-magnetic frequencies, and will detect the relative strength of a signal they pick up. Now, just because one of these things goes off doesn\\'t mean you\\'re seeing a ghost, they also pick up power lines and will go off like crazy near a generator; but if you\\'re in the middle of nowhere and you suddenly get a strong signal, it\\'s worth looking into.\\n\\nNow these detectors we used had about five lights on them, changing in hue from green to yellow to red. Red meant no signal, and green indicates a strong signal. The light never goes below red unless you turn the thing off, that\\'s the baseline.\\n\\nAt the end of our tour, we would come to an old graveyard (nobody buried there in at least 100 years). After I did my thing with the final story, people would wander around and look at the graves with flashlights and scare themselves shitless. But one night as they were wandering, a man called me over to see one of the graves. \\n\\nI went over and had a look, and saw what the problem was. Whenever he passed his EMF detector over this particular grave, all the lights would turn off. The entire machine would turn itself off when it was over this grave, and turn back on  as soon as you moved it away. We tried with a couple other graves, but only this one had the effect.\\n\\nWe were curious about the grave, so we tried to read the name of the person, but the headstone was too worn down for us to read it. The first name Thomas was faintly able to be read, but the surname was too hard to read. We had the whole group (5 people) leaning over it at this point trying to read it, when we all heard the same thing. As one of the group wondered aloud what the man\\'s surname was, a loud voice from behind us shouted \"WHALEY!\". \\n\\nAs you may have guessed, there was nobody behind us when we turned around, and we called the tour to a close shortly after that. I never messed with that specific grave again, except to place some flowers on it one time (as was my habit every once in a while, since nobody visited that place anymore).\\n\\n**Story Two:** \\n\\nAt the end of the tour, sometimes I would get tips if people had fun/got spooked. Older Boomer and Gen X men really enjoy the charade of the \"covert\" handshake tip, where they palm you the money as they shake your hand. I always indulged the bit, because hey, I was getting a tip. \\n\\nOne tour I ran had a family of three (mother, father, daughter) and an older man who I initially thought was grandpa, but later learned had been lumped into their group because we didn\\'t run solo tours. The old guy was pretty quiet throughout the tour, but would occasionally ask very pointed questions that stood out to me as odd. I don\\'t remember most of his questions anymore (this was years ago), but one example is that I was telling a story of a girl who fell from a balcony and \"her ghost haunts the river she plummeted into to this day\", and he asked me if I thought she died right away when she hit the ground, or whether I thought she died slow and suffered. Just... Weird things like that.\\n\\nWell at the end of the tour, the family took off into the graves to have a look about, see if ghosts would show up in their pictures, etc. Old man came to give me that typical handshake, and mentally I was thinking that all his weird behavior could be easily forgotten if he tipped well. The handshake was normal except that his hand was ice cold, but old folks have cold hands, so I didn\\'t think about it too much. Except he didn\\'t palm me a dollar, he palmed me a coin. I thought it was a half dollar when I felt it at first, but it was too big. I turned to glance at the guy as he walked past me to leave, and I shit you not, he was just gone.\\n\\nThe path leaving the graveyard was downhill and you had visibility from the top for at least 300 feet. There was no way he could have covered that distance in that time, and I didn\\'t even hear running. Just this old, tottering man in front of me one second and gone in the blink of an eye when he walked past me.\\n\\nWhen I got home and looked up the coin, I learned it was a 1 troy ounce silver bullion. Minted to an older year, I don\\'t remember exactly. I can check the year when I get home this evening if anyone cares. Overall, the experience left me a little shocked, and the family agreed he was really odd when I walked them back to their car. Apparently, the guy greeted their daughter by name when they arrived at the meet-up spot a few minutes before me, but they had no idea who he was. \\n\\n**Story 3:** \\n\\nSo two weird experiences, but no ghostly apparitions or demonic screams. Unfortunately, most nights on the ghost tour were entirely mundane. However, I have got one more odd story I experienced which really set my belief of ghosts in stone. \\n\\nOne of the earlier stops in our tour was an old cabin where the town\\'s progenitor once lived. The cabin has been moved around a couple of times to build parking garages, but has since been placed back on its original spot. We don\\'t actually have a photo of the woman who founded the town, but we have got pictures of her granddaughter, who everyone at the time swore was a dead-ringer for her grandmother. Because of this, an old black-and-white photo of her granddaughter is on the sign outside the cabin.\\n\\nThe cabin is kept locked up with a padlock at all times except when the historical society opens it up for school groups. The windows are so dirty you can\\'t see inside, and most of the time it\\'s too dark to get a decent look inside anyway. Regardless, I liked to encourage people to peek through the cracks in the old wood because they\\'d psyche themselves into thinking they saw something move, and a spooky tour is a tour with good tips.\\n\\nAnyway, one night after I did the whole schpeal about her founding the town, and how people say they can see her ghost within the cabin on some nights to this day, I let them all have a go at peeking inside. One of the younger teens in the group approached me after looking inside, and we had a very odd conversation. These kids (13-16) usually think it makes them cool to be skeptical and show everyone \"they\\'re not scared\". So he asked me something like;\\n\\n\"Who\\'s in the costume?\"\\n\\nI was a little confused and explained how the photo on the sign is a picture of the granddaughter of the town\\'s founder, but that she wasn\\'t wearing a costume, that was how people dressed at the time. The little shit rolled his eyes and told me he meant the woman *in the cabin*.\\n\\nOf course I had to have a look, so I peeked through, and sure enough. A street light was shining through the dirty windows and letting in a diffused sort of light, and you could just make out a figure in a rocking chair sitting in the corner of the dark cabin, rocking back and forth. It was hard to get a good look at her, but from what I saw... She did look just like the woman in the photo. \\n\\nI moved the group on pretty fast because quite frankly, I was a little afraid it was a homeless person who\\'d broken in somehow. If it was, I had a group of six kids and one parent (homeschoolers I think). I didn\\'t want anybody getting hurt or snatched. \\n\\nBut I stopped by the cabin again on the way to my car, and the lock was on tight and undamaged. I peeked inside again, and *there wasn\\'t even a rocking chair in the cabin.* In the whole time I worked the tour route (roughly two years) I never saw a chair in that cabin again. Or any old women, for that matter.\\n\\nSo anyway, those are my stories. I know they aren\\'t as sensational as some, but I thought I\\'d share my experiences with you all. I have a few more odd stories that I can share if you like, but they\\'re all more \"explainable\" by mundane means, if not still creepy and odd.'"
      ]
     },
     "execution_count": 7,
     "metadata": {},
     "output_type": "execute_result"
    }
   ],
   "source": [
    "search[0][2].entity.get('selftext')"
   ]
  },
  {
   "cell_type": "code",
   "execution_count": null,
   "metadata": {},
   "outputs": [],
   "source": []
  },
  {
   "cell_type": "code",
   "execution_count": 27,
   "metadata": {},
   "outputs": [
    {
     "ename": "AttributeError",
     "evalue": "'Hits' object has no attribute 'entity'",
     "output_type": "error",
     "traceback": [
      "\u001b[0;31m---------------------------------------------------------------------------\u001b[0m",
      "\u001b[0;31mAttributeError\u001b[0m                            Traceback (most recent call last)",
      "Cell \u001b[0;32mIn[27], line 1\u001b[0m\n\u001b[0;32m----> 1\u001b[0m \u001b[43msearch\u001b[49m\u001b[43m[\u001b[49m\u001b[38;5;241;43m0\u001b[39;49m\u001b[43m]\u001b[49m\u001b[38;5;241;43m.\u001b[39;49m\u001b[43mentity\u001b[49m\u001b[38;5;241m.\u001b[39mget(\u001b[38;5;124m\"\u001b[39m\u001b[38;5;124mselftext\u001b[39m\u001b[38;5;124m\"\u001b[39m)\n",
      "\u001b[0;31mAttributeError\u001b[0m: 'Hits' object has no attribute 'entity'"
     ]
    }
   ],
   "source": [
    "search[0].entity.get(\"selftext\")"
   ]
  },
  {
   "cell_type": "code",
   "execution_count": null,
   "metadata": {},
   "outputs": [],
   "source": [
    "openai.api_key = os.getenv(\"OPENAI_KEY\")\n",
    "index_name = \"document-embeddings\"\n",
    "environment = \"gcp-starter\"\n",
    "model_name = \"gpt-3.5-turbo-16k\""
   ]
  }
 ],
 "metadata": {
  "kernelspec": {
   "display_name": ".venv",
   "language": "python",
   "name": "python3"
  },
  "language_info": {
   "codemirror_mode": {
    "name": "ipython",
    "version": 3
   },
   "file_extension": ".py",
   "mimetype": "text/x-python",
   "name": "python",
   "nbconvert_exporter": "python",
   "pygments_lexer": "ipython3",
   "version": "3.10.12"
  }
 },
 "nbformat": 4,
 "nbformat_minor": 2
}
