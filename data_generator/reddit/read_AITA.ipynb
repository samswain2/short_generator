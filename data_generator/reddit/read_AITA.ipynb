{
 "cells": [
  {
   "cell_type": "code",
   "execution_count": 14,
   "metadata": {},
   "outputs": [
    {
     "name": "stdout",
     "output_type": "stream",
     "text": [
      "Decompressed file saved to /mnt/f/Big Data/Reddit/AITA/AmItheAsshole_comments.json\n"
     ]
    }
   ],
   "source": [
    "import zstandard as zstd\n",
    "\n",
    "# Define the path to your .zst file and the output file\n",
    "zst_file_path = '/mnt/f/Big Data/Reddit/AITA/AmItheAsshole_comments.zst'\n",
    "output_file_path = '/mnt/f/Big Data/Reddit/AITA/AmItheAsshole_comments.json'\n",
    "\n",
    "# Create a context for decompression\n",
    "with open(zst_file_path, 'rb') as compressed:\n",
    "    dctx = zstd.ZstdDecompressor()\n",
    "    with open(output_file_path, 'wb') as destination:\n",
    "        dctx.copy_stream(compressed, destination)\n",
    "\n",
    "print(f\"Decompressed file saved to {output_file_path}\")\n"
   ]
  },
  {
   "cell_type": "code",
   "execution_count": 2,
   "metadata": {},
   "outputs": [],
   "source": [
    "# Initialize an empty list to store the lines\n",
    "lines = []\n",
    "\n",
    "# Open the file in read mode\n",
    "with open(output_file_path, 'r') as file:\n",
    "    # Loop through each line in the file\n",
    "    for i, line in enumerate(file):\n",
    "        # Append the current line to the list\n",
    "        lines.append(line)\n",
    "        # Break the loop after reading the 10,000th line\n",
    "        if i == 9999:  # Since index starts at 0, 9999 will be the 10,000th line\n",
    "            break\n",
    "\n",
    "# Now 'lines' contains the first 10,000 lines of the file\n",
    "# You can process these lines further as needed\n"
   ]
  },
  {
   "cell_type": "code",
   "execution_count": 1,
   "metadata": {},
   "outputs": [],
   "source": [
    "import json\n",
    "output_file_path = '/mnt/f/Big Data/Reddit/AITA/AmItheAsshole_comments.json'\n",
    "\n",
    "json_objects = []\n",
    "\n",
    "with open(output_file_path, 'r') as file:\n",
    "    for i, line in enumerate(file):\n",
    "        # if i < 10000:  # Read the first 10,000 lines\n",
    "            json_object = json.loads(line)\n",
    "            json_objects.append(json_object)\n",
    "        # else:\n",
    "        #     break\n",
    "\n",
    "# Now 'json_objects' contains the first 10,000 JSON objects from the file"
   ]
  },
  {
   "cell_type": "code",
   "execution_count": null,
   "metadata": {},
   "outputs": [
    {
     "data": {
      "text/plain": [
       "1688066"
      ]
     },
     "execution_count": 12,
     "metadata": {},
     "output_type": "execute_result"
    }
   ],
   "source": [
    "len(json_objects)"
   ]
  }
 ],
 "metadata": {
  "kernelspec": {
   "display_name": ".venv",
   "language": "python",
   "name": "python3"
  },
  "language_info": {
   "codemirror_mode": {
    "name": "ipython",
    "version": 3
   },
   "file_extension": ".py",
   "mimetype": "text/x-python",
   "name": "python",
   "nbconvert_exporter": "python",
   "pygments_lexer": "ipython3",
   "version": "3.10.12"
  }
 },
 "nbformat": 4,
 "nbformat_minor": 2
}
