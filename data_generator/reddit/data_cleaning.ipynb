{
 "cells": [
  {
   "cell_type": "code",
   "execution_count": 1,
   "metadata": {},
   "outputs": [],
   "source": [
    "import pandas as pd\n",
    "import re"
   ]
  },
  {
   "cell_type": "code",
   "execution_count": 2,
   "metadata": {},
   "outputs": [],
   "source": [
    "df = pd.read_csv(\"../../data/reddit/reddit_stories.csv\")"
   ]
  },
  {
   "cell_type": "code",
   "execution_count": 3,
   "metadata": {},
   "outputs": [],
   "source": [
    "def add_space_around_parentheses(text):\n",
    "    \"\"\"Ensure there are spaces before and after parentheses.\"\"\"\n",
    "    if isinstance(text, str):\n",
    "        # Ensure there is a space before an opening parenthesis\n",
    "        text = re.sub(r'(?<! )\\(', ' (', text)\n",
    "        # Ensure there is a space after a closing parenthesis\n",
    "        text = re.sub(r'\\)(?! )', ') ', text)\n",
    "    return text\n",
    "\n",
    "def clean_text(text):\n",
    "    \"\"\"Apply all cleaning steps including newline removal, ensuring space after periods,\n",
    "    replacing multiple spaces with a single space, and adding spaces around parentheses.\"\"\"\n",
    "    if isinstance(text, str):\n",
    "        # Remove newline characters\n",
    "        text = text.replace('\\n', ' ')\n",
    "        # Ensure there is a space after a period\n",
    "        text = re.sub(r'\\.([A-Za-z])', r'. \\1', text)\n",
    "        # Replace multiple spaces with a single space\n",
    "        text = re.sub(' +', ' ', text)\n",
    "        # Add spaces around parentheses\n",
    "        text = add_space_around_parentheses(text)\n",
    "    else:\n",
    "        # Return a default value for non-string inputs\n",
    "        return text  # or return \"\" to convert non-strings to empty strings\n",
    "    return text\n",
    "\n",
    "# Apply the functions to the 'selftext' column\n",
    "df['selftext'] = df['selftext'].apply(lambda x: clean_text(x))\n",
    "\n",
    "# Apply the functions to the 'selftext' column\n",
    "df['title'] = df['title'].apply(lambda x: clean_text(x))"
   ]
  },
  {
   "cell_type": "code",
   "execution_count": 4,
   "metadata": {},
   "outputs": [
    {
     "data": {
      "text/plain": [
       "'This happened to me about a month ago but it still boggles me. Two points of background to make this story make sense: 1) I live in Tokyo and commute via those famously crazy crowded trains daily. There exists on them this kind of unspoken agreement that everyone works together to make this suck as little as possible. People for the most part hold their backpacks in front of them, men don\\'t manspread etc. But thats when the trains are full. About two stops before mine, the train goes from SARDINE CAN to everyone on this train could lay on the seats and have room left over. So usually I can sit down at this point. 2) I\\'m not a Japanese woman. Very obviously so, even when I\\'m in my white dress shirt and pencil skirt like all the other office drones. I\\'m often the only obviously non-Japanese woman on my train in the morning. But despite my appearance, I\\'m fluent in Japanese. So one day I sit down when the train empties out, headphones in, mobile game going, ready to enjoy the 10 minutes of sitting I get on my hour commute. I\\'m sitting with my legs crossed, but there\\'s maybe 10 people in the whole car so I\\'m not in anyones way. I\\'m tuned out when all of a sudden a hand reaches out and grabs my bare knee (I\\'m in a skirt) . I of course jolt straight out of my skin, rip out my headphones and look up at the hand\\'s owner. It\\'s some skinny old japanese dude (60s???) . He points at my legs, then at other people on the train (again, a max of ten in a car that can hold 50+ easily and probably held about 80 ten minutes ago) . In slightly broken English he says \"You must not cross legs\" I\\'m so bewildered by this I start to tell him in Japanese \"The train isn\\'t crowded right now, I\\'m not in anyones way-\" But he doesn\\'t like this answer. He starts to reach for my legs again, presumedly to uncross my legs himself. I, liking even less of this, summon up my loudest non-scream \"DON\\'T TOUCH ME\", and thankfully this is enough to get him to stop that, as another thing you don\\'t do on trains here is make a fuss. Sadly though, yet another thing you don\\'t do here is get involved. So despite a woman all but screaming \"Don\\'t touch me\", its some foreign woman causing trouble, best not to get involved etc etc so no one comes over. So while I\\'ve made it clear that I will not stand for physical confrontation, this old dude still feels comfortable enough to stand directly in front of me, nearly knee to knee, looming over me while he repeats endlessly \"You. Must.\" He did this for at least five minutes. I didn\\'t move. I didn\\'t blink or break eye contact. I started plans B through P of how to get off this train at the next stop. Thankfully he gave up before the next stop, shaking his head and calling me a \"rude bitch\" in Japanese before wandering off. Still take the same train but haven\\'t seen him since. Lets not meet again leg police fucker, lest you find out what happens when you loom over a girl at dick punting height. Edit: removed double negative'"
      ]
     },
     "execution_count": 4,
     "metadata": {},
     "output_type": "execute_result"
    }
   ],
   "source": [
    "df.iloc[4].selftext"
   ]
  }
 ],
 "metadata": {
  "kernelspec": {
   "display_name": ".venv",
   "language": "python",
   "name": "python3"
  },
  "language_info": {
   "codemirror_mode": {
    "name": "ipython",
    "version": 3
   },
   "file_extension": ".py",
   "mimetype": "text/x-python",
   "name": "python",
   "nbconvert_exporter": "python",
   "pygments_lexer": "ipython3",
   "version": "3.10.12"
  }
 },
 "nbformat": 4,
 "nbformat_minor": 2
}
